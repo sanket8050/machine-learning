{
 "cells": [
  {
   "cell_type": "code",
   "execution_count": 2,
   "id": "65cc9fa0-4520-4053-a202-f8dd9d402e00",
   "metadata": {},
   "outputs": [
    {
     "name": "stdout",
     "output_type": "stream",
     "text": [
      "32\n"
     ]
    }
   ],
   "source": [
    "myAge =32\n",
    "print(myAge)"
   ]
  },
  {
   "cell_type": "markdown",
   "id": "cb84f7e6-f8e7-4f19-a6df-47a4f4287372",
   "metadata": {},
   "source": [
    "#updating"
   ]
  },
  {
   "cell_type": "code",
   "execution_count": 3,
   "id": "00159915-ffed-4765-a2af-72e48d89e74c",
   "metadata": {},
   "outputs": [
    {
     "name": "stdout",
     "output_type": "stream",
     "text": [
      "98\n"
     ]
    }
   ],
   "source": [
    "myAge = 98\n",
    "print(myAge)"
   ]
  },
  {
   "cell_type": "code",
   "execution_count": 4,
   "id": "a11cfe6e-b4f2-4215-935b-ec4932fc7416",
   "metadata": {},
   "outputs": [
    {
     "name": "stdout",
     "output_type": "stream",
     "text": [
      "99\n"
     ]
    }
   ],
   "source": [
    "myAge += 1       #adding one to myAge\n",
    "print(myAge)"
   ]
  },
  {
   "cell_type": "code",
   "execution_count": 5,
   "id": "43c1c679-f711-4f79-be45-e331439c33ed",
   "metadata": {},
   "outputs": [
    {
     "data": {
      "text/plain": [
       "int"
      ]
     },
     "execution_count": 5,
     "metadata": {},
     "output_type": "execute_result"
    }
   ],
   "source": [
    "type(88)"
   ]
  },
  {
   "cell_type": "code",
   "execution_count": 6,
   "id": "52653ceb-f39f-4aaf-9f6a-88818834a05c",
   "metadata": {},
   "outputs": [
    {
     "data": {
      "text/plain": [
       "float"
      ]
     },
     "execution_count": 6,
     "metadata": {},
     "output_type": "execute_result"
    }
   ],
   "source": [
    "type(77.8)"
   ]
  },
  {
   "cell_type": "code",
   "execution_count": 9,
   "id": "286ebe43-9925-4205-916d-d46bab7b9ce9",
   "metadata": {},
   "outputs": [
    {
     "data": {
      "text/plain": [
       "str"
      ]
     },
     "execution_count": 9,
     "metadata": {},
     "output_type": "execute_result"
    }
   ],
   "source": [
    "type('jg')"
   ]
  },
  {
   "cell_type": "code",
   "execution_count": 12,
   "id": "a1f92619-cbb1-490f-bbfc-6286c6c4db67",
   "metadata": {},
   "outputs": [
    {
     "data": {
      "text/plain": [
       "str"
      ]
     },
     "execution_count": 12,
     "metadata": {},
     "output_type": "execute_result"
    }
   ],
   "source": [
    "type('p')"
   ]
  },
  {
   "cell_type": "code",
   "execution_count": 13,
   "id": "88fff8a7-96f9-4cec-9e4b-8319d06f4204",
   "metadata": {},
   "outputs": [
    {
     "data": {
      "text/plain": [
       "int"
      ]
     },
     "execution_count": 13,
     "metadata": {},
     "output_type": "execute_result"
    }
   ],
   "source": [
    "type(myAge)\n"
   ]
  },
  {
   "cell_type": "markdown",
   "id": "0cdce9d7-9e51-445f-b98a-7143be9799d6",
   "metadata": {},
   "source": [
    "# 1 collection (losts of data)"
   ]
  },
  {
   "cell_type": "code",
   "execution_count": 15,
   "id": "35344b6e-e953-4ac6-9713-38e11a1e3ac5",
   "metadata": {},
   "outputs": [
    {
     "data": {
      "text/plain": [
       "list"
      ]
     },
     "execution_count": 15,
     "metadata": {},
     "output_type": "execute_result"
    }
   ],
   "source": [
    "primeNum = [2,3,5,7]\n",
    "type(primeNum)"
   ]
  },
  {
   "cell_type": "code",
   "execution_count": 16,
   "id": "38a388ef-4dc6-430b-96cc-81a6bc3c886f",
   "metadata": {},
   "outputs": [
    {
     "data": {
      "text/plain": [
       "list"
      ]
     },
     "execution_count": 16,
     "metadata": {},
     "output_type": "execute_result"
    }
   ],
   "source": [
    "coolpeople = ['jay',45,'kio',455,45]\n",
    "type(coolpeople)"
   ]
  },
  {
   "cell_type": "code",
   "execution_count": 17,
   "id": "01a38187-7e12-4269-b232-a3dd4821c2c1",
   "metadata": {},
   "outputs": [
    {
     "name": "stdout",
     "output_type": "stream",
     "text": [
      "455\n"
     ]
    }
   ],
   "source": [
    "a = coolpeople[3]\n",
    "print(a)"
   ]
  },
  {
   "cell_type": "markdown",
   "id": "6c68fa31-cd87-488e-86f3-44cb8e493dfe",
   "metadata": {},
   "source": [
    "# Array  simmilar type of data should be stored"
   ]
  },
  {
   "cell_type": "code",
   "execution_count": 35,
   "id": "cfb00204-8cea-408a-8de3-2359082cb80f",
   "metadata": {},
   "outputs": [],
   "source": [
    "import pandas as pd\n",
    "data = pd.read_csv('movie_revenue.csv')"
   ]
  },
  {
   "cell_type": "code",
   "execution_count": 36,
   "id": "36b9837c-af3c-4183-9cac-403102afd04a",
   "metadata": {},
   "outputs": [
    {
     "name": "stdout",
     "output_type": "stream",
     "text": [
      "      Production Budget ($)  Worldwide Gross ($)\n",
      "0                  600000.0         2.600000e+01\n",
      "1                  600000.0         4.010000e+02\n",
      "2                  600000.0         4.230000e+02\n",
      "3                  600000.0         4.500000e+02\n",
      "4                  600000.0         5.270000e+02\n",
      "...                     ...                  ...\n",
      "5029            275000000.0         1.519480e+09\n",
      "5030            300000000.0         1.671641e+09\n",
      "5031            300000000.0         2.058662e+09\n",
      "5032            306000000.0         2.207616e+09\n",
      "5033            425000000.0         2.783919e+09\n",
      "\n",
      "[5034 rows x 2 columns]\n"
     ]
    }
   ],
   "source": [
    "print(data)"
   ]
  },
  {
   "cell_type": "code",
   "execution_count": 37,
   "id": "248753f3-6632-41df-a22e-beb20df7818f",
   "metadata": {},
   "outputs": [
    {
     "data": {
      "text/plain": [
       "pandas.core.frame.DataFrame"
      ]
     },
     "execution_count": 37,
     "metadata": {},
     "output_type": "execute_result"
    }
   ],
   "source": [
    "type(data)"
   ]
  },
  {
   "cell_type": "code",
   "execution_count": 38,
   "id": "9205eda4-2d38-4442-bfee-7e7ec7bc2d7e",
   "metadata": {},
   "outputs": [
    {
     "name": "stdout",
     "output_type": "stream",
     "text": [
      "0          600000.0\n",
      "1          600000.0\n",
      "2          600000.0\n",
      "3          600000.0\n",
      "4          600000.0\n",
      "           ...     \n",
      "5029    275000000.0\n",
      "5030    300000000.0\n",
      "5031    300000000.0\n",
      "5032    306000000.0\n",
      "5033    425000000.0\n",
      "Name: Production Budget ($), Length: 5034, dtype: float64\n"
     ]
    }
   ],
   "source": [
    "a = data['Production Budget ($)']\n",
    "print(a)"
   ]
  },
  {
   "cell_type": "markdown",
   "id": "dc694107-f0d0-434a-a361-b7a508364491",
   "metadata": {},
   "source": [
    "# adding new colimn to dataframe withe 'values'"
   ]
  },
  {
   "cell_type": "code",
   "execution_count": 39,
   "id": "8248a834-a323-4662-b83e-63d03a1d5560",
   "metadata": {},
   "outputs": [],
   "source": [
    "data['salary'] = 1000"
   ]
  },
  {
   "cell_type": "code",
   "execution_count": 40,
   "id": "22291e98-982c-4efa-8150-9d8dacc0dbe8",
   "metadata": {},
   "outputs": [
    {
     "name": "stdout",
     "output_type": "stream",
     "text": [
      "      Production Budget ($)  Worldwide Gross ($)  salary\n",
      "0                  600000.0         2.600000e+01    1000\n",
      "1                  600000.0         4.010000e+02    1000\n",
      "2                  600000.0         4.230000e+02    1000\n",
      "3                  600000.0         4.500000e+02    1000\n",
      "4                  600000.0         5.270000e+02    1000\n",
      "...                     ...                  ...     ...\n",
      "5029            275000000.0         1.519480e+09    1000\n",
      "5030            300000000.0         1.671641e+09    1000\n",
      "5031            300000000.0         2.058662e+09    1000\n",
      "5032            306000000.0         2.207616e+09    1000\n",
      "5033            425000000.0         2.783919e+09    1000\n",
      "\n",
      "[5034 rows x 3 columns]\n"
     ]
    }
   ],
   "source": [
    "print(data)"
   ]
  },
  {
   "cell_type": "markdown",
   "id": "a89385eb-30e9-4ff0-8106-a79eb9135895",
   "metadata": {},
   "source": [
    "# challenge: multiply production budget to sallary"
   ]
  },
  {
   "cell_type": "code",
   "execution_count": 47,
   "id": "e0d01a43-1e80-4126-a78b-ae1546569675",
   "metadata": {},
   "outputs": [
    {
     "name": "stdout",
     "output_type": "stream",
     "text": [
      "      Production Budget ($)  Worldwide Gross ($)  salary\n",
      "0                  600000.0         2.600000e+01    1000\n",
      "1                  600000.0         4.010000e+02    1000\n",
      "2                  600000.0         4.230000e+02    1000\n",
      "3                  600000.0         4.500000e+02    1000\n",
      "4                  600000.0         5.270000e+02    1000\n",
      "...                     ...                  ...     ...\n",
      "5029            275000000.0         1.519480e+09    1000\n",
      "5030            300000000.0         1.671641e+09    1000\n",
      "5031            300000000.0         2.058662e+09    1000\n",
      "5032            306000000.0         2.207616e+09    1000\n",
      "5033            425000000.0         2.783919e+09    1000\n",
      "\n",
      "[5034 rows x 3 columns]\n"
     ]
    }
   ],
   "source": [
    "print(data)"
   ]
  },
  {
   "cell_type": "markdown",
   "id": "4d5dbc8e-dc5f-4a20-8cb6-24cffed9efe1",
   "metadata": {},
   "source": [
    "# chalenge create val x\n",
    "# print the values of production bugete\n",
    "# make sure the datatype id dataframe\n",
    "# show the type of x"
   ]
  },
  {
   "cell_type": "code",
   "execution_count": 49,
   "id": "bf5f22fa-c923-4d86-b91d-267a1e1625b1",
   "metadata": {},
   "outputs": [
    {
     "name": "stdout",
     "output_type": "stream",
     "text": [
      "      Production Budget ($)\n",
      "0                  600000.0\n",
      "1                  600000.0\n",
      "2                  600000.0\n",
      "3                  600000.0\n",
      "4                  600000.0\n",
      "...                     ...\n",
      "5029            275000000.0\n",
      "5030            300000000.0\n",
      "5031            300000000.0\n",
      "5032            306000000.0\n",
      "5033            425000000.0\n",
      "\n",
      "[5034 rows x 1 columns]\n"
     ]
    },
    {
     "data": {
      "text/plain": [
       "pandas.core.frame.DataFrame"
      ]
     },
     "execution_count": 49,
     "metadata": {},
     "output_type": "execute_result"
    }
   ],
   "source": [
    "x = data[['Production Budget ($)']]\n",
    "print(x)\n",
    "type(x)"
   ]
  },
  {
   "cell_type": "code",
   "execution_count": 50,
   "id": "f50e0f71-863d-420f-9683-f4de8a19281b",
   "metadata": {},
   "outputs": [],
   "source": [
    "del data['Production Budget ($)']"
   ]
  },
  {
   "cell_type": "code",
   "execution_count": 51,
   "id": "32e732fe-fa68-49bd-9330-e68277b0a315",
   "metadata": {},
   "outputs": [
    {
     "data": {
      "text/html": [
       "<div>\n",
       "<style scoped>\n",
       "    .dataframe tbody tr th:only-of-type {\n",
       "        vertical-align: middle;\n",
       "    }\n",
       "\n",
       "    .dataframe tbody tr th {\n",
       "        vertical-align: top;\n",
       "    }\n",
       "\n",
       "    .dataframe thead th {\n",
       "        text-align: right;\n",
       "    }\n",
       "</style>\n",
       "<table border=\"1\" class=\"dataframe\">\n",
       "  <thead>\n",
       "    <tr style=\"text-align: right;\">\n",
       "      <th></th>\n",
       "      <th>Worldwide Gross ($)</th>\n",
       "      <th>salary</th>\n",
       "    </tr>\n",
       "  </thead>\n",
       "  <tbody>\n",
       "    <tr>\n",
       "      <th>0</th>\n",
       "      <td>2.600000e+01</td>\n",
       "      <td>1000</td>\n",
       "    </tr>\n",
       "    <tr>\n",
       "      <th>1</th>\n",
       "      <td>4.010000e+02</td>\n",
       "      <td>1000</td>\n",
       "    </tr>\n",
       "    <tr>\n",
       "      <th>2</th>\n",
       "      <td>4.230000e+02</td>\n",
       "      <td>1000</td>\n",
       "    </tr>\n",
       "    <tr>\n",
       "      <th>3</th>\n",
       "      <td>4.500000e+02</td>\n",
       "      <td>1000</td>\n",
       "    </tr>\n",
       "    <tr>\n",
       "      <th>4</th>\n",
       "      <td>5.270000e+02</td>\n",
       "      <td>1000</td>\n",
       "    </tr>\n",
       "    <tr>\n",
       "      <th>...</th>\n",
       "      <td>...</td>\n",
       "      <td>...</td>\n",
       "    </tr>\n",
       "    <tr>\n",
       "      <th>5029</th>\n",
       "      <td>1.519480e+09</td>\n",
       "      <td>1000</td>\n",
       "    </tr>\n",
       "    <tr>\n",
       "      <th>5030</th>\n",
       "      <td>1.671641e+09</td>\n",
       "      <td>1000</td>\n",
       "    </tr>\n",
       "    <tr>\n",
       "      <th>5031</th>\n",
       "      <td>2.058662e+09</td>\n",
       "      <td>1000</td>\n",
       "    </tr>\n",
       "    <tr>\n",
       "      <th>5032</th>\n",
       "      <td>2.207616e+09</td>\n",
       "      <td>1000</td>\n",
       "    </tr>\n",
       "    <tr>\n",
       "      <th>5033</th>\n",
       "      <td>2.783919e+09</td>\n",
       "      <td>1000</td>\n",
       "    </tr>\n",
       "  </tbody>\n",
       "</table>\n",
       "<p>5034 rows × 2 columns</p>\n",
       "</div>"
      ],
      "text/plain": [
       "      Worldwide Gross ($)  salary\n",
       "0            2.600000e+01    1000\n",
       "1            4.010000e+02    1000\n",
       "2            4.230000e+02    1000\n",
       "3            4.500000e+02    1000\n",
       "4            5.270000e+02    1000\n",
       "...                   ...     ...\n",
       "5029         1.519480e+09    1000\n",
       "5030         1.671641e+09    1000\n",
       "5031         2.058662e+09    1000\n",
       "5032         2.207616e+09    1000\n",
       "5033         2.783919e+09    1000\n",
       "\n",
       "[5034 rows x 2 columns]"
      ]
     },
     "execution_count": 51,
     "metadata": {},
     "output_type": "execute_result"
    }
   ],
   "source": [
    "data"
   ]
  },
  {
   "cell_type": "markdown",
   "id": "27c1efe7-066f-43a3-a3ad-91034ffe6036",
   "metadata": {},
   "source": [
    "# Functions"
   ]
  },
  {
   "cell_type": "code",
   "execution_count": 5,
   "id": "edfa6f33-0525-447c-8789-f23793a051c1",
   "metadata": {},
   "outputs": [],
   "source": [
    "def get_milk():\n",
    "    print('open the door')\n",
    "    print('take milk')\n",
    "    print('close the door')\n",
    "    print('comeback')"
   ]
  },
  {
   "cell_type": "code",
   "execution_count": 6,
   "id": "9b8e3768-47ff-4172-83c8-3dc972c1e6e9",
   "metadata": {},
   "outputs": [
    {
     "name": "stdout",
     "output_type": "stream",
     "text": [
      "open the door\n",
      "take milk\n",
      "close the door\n",
      "comeback\n"
     ]
    }
   ],
   "source": [
    "get_milk()"
   ]
  },
  {
   "cell_type": "code",
   "execution_count": 7,
   "id": "f19fb7ae-493b-40b2-a880-90b4a7e7ffb5",
   "metadata": {},
   "outputs": [],
   "source": [
    "def Fill_the_fridge(Amount):\n",
    "    print(\"open \"+ Amount +\"things are there\")"
   ]
  },
  {
   "cell_type": "code",
   "execution_count": 9,
   "id": "9eb720da-ab2b-4cf5-b0d5-8a3b3f27ce15",
   "metadata": {},
   "outputs": [
    {
     "name": "stdout",
     "output_type": "stream",
     "text": [
      "open90things are there\n"
     ]
    }
   ],
   "source": [
    "Fill_the_fridge('90')"
   ]
  },
  {
   "cell_type": "code",
   "execution_count": 10,
   "id": "ab9bd9d6-2286-48d3-8626-937812e8a096",
   "metadata": {},
   "outputs": [],
   "source": [
    "def sum(a,b):\n",
    "    return a + b"
   ]
  },
  {
   "cell_type": "code",
   "execution_count": 11,
   "id": "c94b50f7-d3f3-4a65-a68a-c49cc4975e13",
   "metadata": {},
   "outputs": [
    {
     "data": {
      "text/plain": [
       "11"
      ]
     },
     "execution_count": 11,
     "metadata": {},
     "output_type": "execute_result"
    }
   ],
   "source": [
    "sum(5,6)"
   ]
  },
  {
   "cell_type": "code",
   "execution_count": 24,
   "id": "2bd4cf93-d872-459a-b4a2-8cc37f502806",
   "metadata": {},
   "outputs": [],
   "source": [
    "def code():\n",
    "    print('i don\\'t know')         \n",
    "                                    # add backslash if sentence containce apostropy\n",
    "                                    # or usr double inverted commas"
   ]
  },
  {
   "cell_type": "code",
   "execution_count": 25,
   "id": "dbd690f0-b3e4-4950-83e8-72cc01660300",
   "metadata": {},
   "outputs": [
    {
     "name": "stdout",
     "output_type": "stream",
     "text": [
      "i don't know\n"
     ]
    }
   ],
   "source": [
    "code()"
   ]
  },
  {
   "cell_type": "markdown",
   "id": "0d44feb5-807c-448c-94ab-6a170c14fb95",
   "metadata": {},
   "source": [
    "\n",
    "\n",
    "# "
   ]
  }
 ],
 "metadata": {
  "kernelspec": {
   "display_name": "Python 3 (ipykernel)",
   "language": "python",
   "name": "python3"
  },
  "language_info": {
   "codemirror_mode": {
    "name": "ipython",
    "version": 3
   },
   "file_extension": ".py",
   "mimetype": "text/x-python",
   "name": "python",
   "nbconvert_exporter": "python",
   "pygments_lexer": "ipython3",
   "version": "3.12.4"
  }
 },
 "nbformat": 4,
 "nbformat_minor": 5
}
